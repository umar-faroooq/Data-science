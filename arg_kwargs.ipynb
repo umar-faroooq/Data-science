{
  "nbformat": 4,
  "nbformat_minor": 0,
  "metadata": {
    "colab": {
      "provenance": [],
      "authorship_tag": "ABX9TyPgRDGIkSBoQ3TC9UnHRPlx",
      "include_colab_link": true
    },
    "kernelspec": {
      "name": "python3",
      "display_name": "Python 3"
    },
    "language_info": {
      "name": "python"
    }
  },
  "cells": [
    {
      "cell_type": "markdown",
      "metadata": {
        "id": "view-in-github",
        "colab_type": "text"
      },
      "source": [
        "<a href=\"https://colab.research.google.com/github/umar-faroooq/Data-science/blob/master/arg_kwargs.ipynb\" target=\"_parent\"><img src=\"https://colab.research.google.com/assets/colab-badge.svg\" alt=\"Open In Colab\"/></a>"
      ]
    },
    {
      "cell_type": "code",
      "execution_count": 2,
      "metadata": {
        "colab": {
          "base_uri": "https://localhost:8080/"
        },
        "id": "tyKLqApwY4qE",
        "outputId": "1120b90f-a5bd-4c1e-bdab-b2f76cf9311b"
      },
      "outputs": [
        {
          "output_type": "execute_result",
          "data": {
            "text/plain": [
              "12"
            ]
          },
          "metadata": {},
          "execution_count": 2
        }
      ],
      "source": [
        "def multiply(a, b):\n",
        "    return a * b\n",
        "\n",
        "multiply(3, 4)"
      ]
    },
    {
      "cell_type": "code",
      "source": [
        "def multiply(a, b, c):\n",
        "    return a * b * c\n",
        "multiply(3,4,5)"
      ],
      "metadata": {
        "colab": {
          "base_uri": "https://localhost:8080/"
        },
        "id": "cBAeUtO0Y95j",
        "outputId": "3d1e55c5-db0f-466c-862e-1bf043ef1b4b"
      },
      "execution_count": 3,
      "outputs": [
        {
          "output_type": "execute_result",
          "data": {
            "text/plain": [
              "60"
            ]
          },
          "metadata": {},
          "execution_count": 3
        }
      ]
    },
    {
      "cell_type": "code",
      "source": [
        "# one thing we can do we can take a list of numbers and iterate throug it \n",
        "def multiply(number):\n",
        "  results = 1 \n",
        "  for n in number:\n",
        "    results *= n\n",
        "  return results\n",
        "multiply([2,4])\n"
      ],
      "metadata": {
        "colab": {
          "base_uri": "https://localhost:8080/"
        },
        "id": "qtWWJ3HZZDYm",
        "outputId": "70f53d74-8a64-4aa4-da84-6c3aee5d6208"
      },
      "execution_count": 7,
      "outputs": [
        {
          "output_type": "execute_result",
          "data": {
            "text/plain": [
              "8"
            ]
          },
          "metadata": {},
          "execution_count": 7
        }
      ]
    },
    {
      "cell_type": "code",
      "source": [
        "multiply([2,4,8, 31])"
      ],
      "metadata": {
        "colab": {
          "base_uri": "https://localhost:8080/"
        },
        "id": "DT-iRdFgZtPI",
        "outputId": "a98da7f3-ef7d-42e8-f5fb-b9334e433704"
      },
      "execution_count": 8,
      "outputs": [
        {
          "output_type": "execute_result",
          "data": {
            "text/plain": [
              "1984"
            ]
          },
          "metadata": {},
          "execution_count": 8
        }
      ]
    },
    {
      "cell_type": "code",
      "source": [
        "# the alternate approach is bu using keywords in function defination with \"*\"\n",
        "def multiply(*numbers):\n",
        "    result = 1\n",
        "    for n in numbers:\n",
        "        result = result * n\n",
        "    return result\n",
        "print(multiply(2,3))\n",
        "print(multiply(2,3,4,4))\n",
        "print(multiply(2,3,5,6,6))\n"
      ],
      "metadata": {
        "colab": {
          "base_uri": "https://localhost:8080/"
        },
        "id": "A-dF-nMkZ4t7",
        "outputId": "c5f745d9-8f98-4e0e-d9ca-9190c3f2c237"
      },
      "execution_count": 10,
      "outputs": [
        {
          "output_type": "stream",
          "name": "stdout",
          "text": [
            "6\n",
            "96\n",
            "1080\n"
          ]
        }
      ]
    },
    {
      "cell_type": "code",
      "source": [
        "# apart from that we can use arguments in this way as well:\n",
        "\n",
        "def function(a, b, *args):\n",
        "    print(a, b)\n",
        "    print(args)\n",
        "\n",
        "print(function(2,3))\n",
        "print(function(2,3,5,6,6))\n",
        "print(function(2,3,4,4))\n"
      ],
      "metadata": {
        "colab": {
          "base_uri": "https://localhost:8080/"
        },
        "id": "JTxUkR-KaHVd",
        "outputId": "b8e7abea-e1c8-4d9c-b0cd-ef449056c9ab"
      },
      "execution_count": 11,
      "outputs": [
        {
          "output_type": "stream",
          "name": "stdout",
          "text": [
            "2 3\n",
            "()\n",
            "None\n",
            "2 3\n",
            "(5, 6, 6)\n",
            "None\n",
            "2 3\n",
            "(4, 4)\n",
            "None\n"
          ]
        }
      ]
    },
    {
      "cell_type": "code",
      "source": [
        "def someFunction(a, b, *args, keyword=True, **kwargs):\n",
        "    print(a, b)\n",
        "    print(args)\n",
        "    print(keyword)\n",
        "    print(kwargs)\n",
        "\n",
        "print(someFunction(3,4))"
      ],
      "metadata": {
        "colab": {
          "base_uri": "https://localhost:8080/"
        },
        "id": "jPF8lYGtay8K",
        "outputId": "6dfa1ea5-19c4-4705-8901-3592df5b26b1"
      },
      "execution_count": 12,
      "outputs": [
        {
          "output_type": "stream",
          "name": "stdout",
          "text": [
            "3 4\n",
            "()\n",
            "True\n",
            "{}\n",
            "None\n"
          ]
        }
      ]
    },
    {
      "cell_type": "code",
      "source": [
        "# in the above output we can see that arg are list/tupple while keyword arguemnts are dictionaries\n",
        "print(someFunction(3,4, Ali=43))"
      ],
      "metadata": {
        "colab": {
          "base_uri": "https://localhost:8080/"
        },
        "id": "sXEwzkd4bhyv",
        "outputId": "f707d96e-5ea1-4873-8b93-4422500ea567"
      },
      "execution_count": 13,
      "outputs": [
        {
          "output_type": "stream",
          "name": "stdout",
          "text": [
            "3 4\n",
            "()\n",
            "True\n",
            "{'Ali': 43}\n",
            "None\n"
          ]
        }
      ]
    },
    {
      "cell_type": "code",
      "source": [
        "# in the above example we can see there's no error even there's no values specified for arguments\n",
        "print(someFunction(3,4,5,56,6,7,7, Ali=43, Umar=55))"
      ],
      "metadata": {
        "colab": {
          "base_uri": "https://localhost:8080/"
        },
        "id": "m1C2AXY5bw5q",
        "outputId": "e50ba6b9-82a1-4cfe-aa6e-c3bf817a0a93"
      },
      "execution_count": 15,
      "outputs": [
        {
          "output_type": "stream",
          "name": "stdout",
          "text": [
            "3 4\n",
            "(5, 56, 6, 7, 7)\n",
            "True\n",
            "{'Ali': 43, 'Umar': 55}\n",
            "None\n"
          ]
        }
      ]
    },
    {
      "cell_type": "code",
      "source": [
        "someFunction(a=1, b=2, 5, 3, 4, param=42)\n",
        "#Using this will cause an error because python is not able to figure out which are keywordss "
      ],
      "metadata": {
        "id": "BjpxGCtWb-Ju"
      },
      "execution_count": null,
      "outputs": []
    },
    {
      "cell_type": "code",
      "source": [
        "def someFunction(a, b, *args, keyword=True, **kwargs):\n",
        "    print(a, b)\n",
        "    print(args)\n",
        "    print(keyword)\n",
        "    print(kwargs)\n",
        "\n",
        "d = {'Alli': 43, 'Umar': 44}\n",
        "li = [3,4,5,6,7,7,8]\n",
        "someFunction(1, 2, *li, Abdullah=42, **d)"
      ],
      "metadata": {
        "colab": {
          "base_uri": "https://localhost:8080/"
        },
        "id": "epHqad5sdsfL",
        "outputId": "6154523e-8a88-430a-8112-bfaeef7ae3ad"
      },
      "execution_count": 18,
      "outputs": [
        {
          "output_type": "stream",
          "name": "stdout",
          "text": [
            "1 2\n",
            "(3, 4, 5, 6, 7, 7, 8)\n",
            "True\n",
            "{'Abdullah': 42, 'Alli': 43, 'Umar': 44}\n"
          ]
        }
      ]
    },
    {
      "cell_type": "code",
      "source": [
        "d = {'Alli': 43, 'Umar': 44}\n",
        "li = [3,4,5,6,7,7,8]\n",
        "someFunction(1, 2, *[3,4,5,6,7,7,8], **{'Alli': 43, 'Umar': 44, 'Abdullah':42})"
      ],
      "metadata": {
        "colab": {
          "base_uri": "https://localhost:8080/"
        },
        "id": "8QXFJrhWeq17",
        "outputId": "ebcba30f-2566-480d-e18b-221075bb6aa5"
      },
      "execution_count": 20,
      "outputs": [
        {
          "output_type": "stream",
          "name": "stdout",
          "text": [
            "1 2\n",
            "(3, 4, 5, 6, 7, 7, 8)\n",
            "True\n",
            "{'Alli': 43, 'Umar': 44, 'Abdullah': 42}\n"
          ]
        }
      ]
    },
    {
      "cell_type": "code",
      "source": [],
      "metadata": {
        "id": "AHqr2MR4e-Iu"
      },
      "execution_count": null,
      "outputs": []
    }
  ]
}